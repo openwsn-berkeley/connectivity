{
 "cells": [
  {
   "cell_type": "markdown",
   "metadata": {},
   "source": [
    "## Python dependencies"
   ]
  },
  {
   "cell_type": "code",
   "execution_count": 40,
   "metadata": {
    "collapsed": false
   },
   "outputs": [],
   "source": [
    "%matplotlib inline\n",
    "\n",
    "import numpy as np\n",
    "import pandas as pd\n",
    "import matplotlib.pyplot as plt"
   ]
  },
  {
   "cell_type": "markdown",
   "metadata": {},
   "source": [
    "## Data loading & cleaning "
   ]
  },
  {
   "cell_type": "code",
   "execution_count": 97,
   "metadata": {
    "collapsed": false
   },
   "outputs": [],
   "source": [
    "df_1 = pd.read_csv(\"raw_data/connectivity1458292421ttyUSB0.csv\",\n",
    "                  names=[\"type\", \"MAC\", \"seq\", \"wraps\", \"timestamp\", \"RSSI\", \"LQI\"],)\n",
    "df_2 = pd.read_csv(\"raw_data/connectivity1459473036ttyUSB0.csv\",\n",
    "                  names=[\"type\", \"MAC\", \"seq\", \"wraps\", \"timestamp\", \"RSSI\", \"LQI\"],)\n",
    "\n",
    "# We apply the same cleaning on all data sets\n",
    "for num, d in enumerate([df_1, df_2]):\n",
    "    d[\"type\"] = d[\"type\"].map({\"0xaa\": \"rPi\", \"0x55\": \"mote\"})\n",
    "    # It's better to have a Not a Number (NaN) rather than 0 to avoid confusion.\n",
    "    d[\"timestamp\"] = d[\"timestamp\"].replace({0: np.nan})\n",
    "    # Timestamp are only delta. No date sync is available.\n",
    "    d['timestamp'] = d[\"timestamp\"] - d[\"timestamp\"].min()\n",
    "    d[\"origin\"] = num\n",
    "\n",
    "df = pd.concat([df_1, df_2])"
   ]
  },
  {
   "cell_type": "markdown",
   "metadata": {
    "collapsed": true
   },
   "source": [
    "## Motes in action\n",
    "\n",
    "We can see all the motes in actions:"
   ]
  },
  {
   "cell_type": "code",
   "execution_count": 88,
   "metadata": {
    "collapsed": false
   },
   "outputs": [
    {
     "data": {
      "text/plain": [
       "array(['0x0:0x12:0x4b:0x0:0x6:0x15:0xa4:0xd1'], dtype=object)"
      ]
     },
     "execution_count": 88,
     "metadata": {},
     "output_type": "execute_result"
    }
   ],
   "source": [
    "df_1[df_1[\"type\"] == \"mote\"].MAC.unique()"
   ]
  },
  {
   "cell_type": "code",
   "execution_count": 28,
   "metadata": {
    "collapsed": false
   },
   "outputs": [
    {
     "data": {
      "text/plain": [
       "array(['0x0:0x12:0x4b:0x0:0x6:0xd:0x84:0x64'], dtype=object)"
      ]
     },
     "execution_count": 28,
     "metadata": {},
     "output_type": "execute_result"
    }
   ],
   "source": [
    "df_2[df_2[\"type\"] == \"mote\"].MAC.unique()"
   ]
  },
  {
   "cell_type": "markdown",
   "metadata": {},
   "source": [
    "## RaspberryPi in action"
   ]
  },
  {
   "cell_type": "code",
   "execution_count": 35,
   "metadata": {
    "collapsed": false
   },
   "outputs": [
    {
     "data": {
      "text/plain": [
       "array(['0x0:0x12:0x4b:0x0:0x6:0xd:0x80:0x1a',\n",
       "       '0x0:0x12:0x4b:0x0:0x6:0xd:0x9f:0x43'], dtype=object)"
      ]
     },
     "execution_count": 35,
     "metadata": {},
     "output_type": "execute_result"
    }
   ],
   "source": [
    "df_1[df_1[\"type\"] == \"rPi\"].MAC.unique()"
   ]
  },
  {
   "cell_type": "code",
   "execution_count": 36,
   "metadata": {
    "collapsed": false
   },
   "outputs": [
    {
     "data": {
      "text/plain": [
       "array(['0x0:0x12:0x4b:0x0:0x6:0xd:0x80:0x1a',\n",
       "       '0x0:0x12:0x4b:0x0:0x6:0xd:0x9f:0x43'], dtype=object)"
      ]
     },
     "execution_count": 36,
     "metadata": {},
     "output_type": "execute_result"
    }
   ],
   "source": [
    "df_2[df_2[\"type\"] == \"rPi\"].MAC.unique()"
   ]
  },
  {
   "cell_type": "markdown",
   "metadata": {},
   "source": [
    "## RSSI summary"
   ]
  },
  {
   "cell_type": "code",
   "execution_count": 67,
   "metadata": {
    "collapsed": false,
    "scrolled": false
   },
   "outputs": [
    {
     "data": {
      "text/plain": [
       "count    343002.000000\n",
       "mean        -34.238876\n",
       "std           3.266245\n",
       "min         -61.000000\n",
       "25%         -37.000000\n",
       "50%         -33.000000\n",
       "75%         -31.000000\n",
       "max         -28.000000\n",
       "Name: RSSI, dtype: float64"
      ]
     },
     "execution_count": 67,
     "metadata": {},
     "output_type": "execute_result"
    }
   ],
   "source": [
    "df.RSSI.describe()"
   ]
  },
  {
   "cell_type": "code",
   "execution_count": 74,
   "metadata": {
    "collapsed": false
   },
   "outputs": [
    {
     "data": {
      "text/plain": [
       "<matplotlib.axes._subplots.AxesSubplot at 0x7f36e8042668>"
      ]
     },
     "execution_count": 74,
     "metadata": {},
     "output_type": "execute_result"
    },
    {
     "data": {
      "image/png": "[encoded data removed]",
      "text/plain": [
       "<matplotlib.figure.Figure at 0x7f36e894c6a0>"
      ]
     },
     "metadata": {},
     "output_type": "display_data"
    }
   ],
   "source": [
    "df.RSSI.hist(bins=20)"
   ]
  },
  {
   "cell_type": "markdown",
   "metadata": {},
   "source": [
    "## LQI summary"
   ]
  },
  {
   "cell_type": "code",
   "execution_count": 68,
   "metadata": {
    "collapsed": false
   },
   "outputs": [
    {
     "data": {
      "text/plain": [
       "count    343002.000000\n",
       "mean        107.926432\n",
       "std           0.330771\n",
       "min          66.000000\n",
       "25%         108.000000\n",
       "50%         108.000000\n",
       "75%         108.000000\n",
       "max         108.000000\n",
       "Name: LQI, dtype: float64"
      ]
     },
     "execution_count": 68,
     "metadata": {},
     "output_type": "execute_result"
    }
   ],
   "source": [
    "df.LQI.describe()"
   ]
  },
  {
   "cell_type": "code",
   "execution_count": 76,
   "metadata": {
    "collapsed": false
   },
   "outputs": [
    {
     "data": {
      "text/plain": [
       "<matplotlib.axes._subplots.AxesSubplot at 0x7f36e8701f28>"
      ]
     },
     "execution_count": 76,
     "metadata": {},
     "output_type": "execute_result"
    },
    {
     "data": {
      "image/png": "[encoded data removed]",
      "text/plain": [
       "<matplotlib.figure.Figure at 0x7f36e88bcba8>"
      ]
     },
     "metadata": {},
     "output_type": "display_data"
    }
   ],
   "source": [
    "df.LQI.hist()"
   ]
  },
  {
   "cell_type": "markdown",
   "metadata": {},
   "source": [
    "## Which data origin is the first in time?"
   ]
  },
  {
   "cell_type": "code",
   "execution_count": 131,
   "metadata": {
    "collapsed": false
   },
   "outputs": [
    {
     "data": {
      "text/plain": [
       "MAC                                   seq  \n",
       "0x0:0x12:0x4b:0x0:0x6:0x15:0xa4:0xd1  512      [1285.0]\n",
       "                                      513      [1286.0]\n",
       "                                      514      [1286.0]\n",
       "                                      586      [1104.0]\n",
       "                                      587      [1105.0]\n",
       "                                      588      [1106.0]\n",
       "                                      589      [1107.0]\n",
       "                                      590      [1108.0]\n",
       "                                      591      [1109.0]\n",
       "                                      592      [1110.0]\n",
       "                                      593      [1111.0]\n",
       "                                      594      [1112.0]\n",
       "                                      595      [1113.0]\n",
       "                                      596      [1114.0]\n",
       "                                      597      [1115.0]\n",
       "                                      598      [1116.0]\n",
       "                                      599      [1117.0]\n",
       "                                      600      [1118.0]\n",
       "                                      601      [1119.0]\n",
       "                                      602      [1120.0]\n",
       "                                      603      [1121.0]\n",
       "                                      604      [1122.0]\n",
       "                                      605      [1123.0]\n",
       "                                      606      [1124.0]\n",
       "                                      607      [1125.0]\n",
       "                                      608      [1126.0]\n",
       "                                      609      [1127.0]\n",
       "                                      610      [1128.0]\n",
       "                                      611      [1129.0]\n",
       "                                      612      [1130.0]\n",
       "                                                 ...   \n",
       "0x0:0x12:0x4b:0x0:0x6:0xd:0x9f:0x43   65249       [nan]\n",
       "                                      65250       [nan]\n",
       "                                      65251       [nan]\n",
       "                                      65252       [nan]\n",
       "                                      65253       [nan]\n",
       "                                      65254       [nan]\n",
       "                                      65255       [nan]\n",
       "                                      65256       [nan]\n",
       "                                      65257       [nan]\n",
       "                                      65258       [nan]\n",
       "                                      65259       [nan]\n",
       "                                      65260       [nan]\n",
       "                                      65261       [nan]\n",
       "                                      65262       [nan]\n",
       "                                      65263       [nan]\n",
       "                                      65264       [nan]\n",
       "                                      65265       [nan]\n",
       "                                      65266       [nan]\n",
       "                                      65267       [nan]\n",
       "                                      65268       [nan]\n",
       "                                      65269       [nan]\n",
       "                                      65270       [nan]\n",
       "                                      65271       [nan]\n",
       "                                      65272       [nan]\n",
       "                                      65273       [nan]\n",
       "                                      65274       [nan]\n",
       "                                      65275       [nan]\n",
       "                                      65276       [nan]\n",
       "                                      65277       [nan]\n",
       "                                      65278       [nan]\n",
       "Name: timestamp, dtype: object"
      ]
     },
     "execution_count": 131,
     "metadata": {},
     "output_type": "execute_result"
    }
   ],
   "source": [
    "df.groupby([\"MAC\", \"seq\"], sort=True)[\"timestamp\"].unique()"
   ]
  },
  {
   "cell_type": "code",
   "execution_count": null,
   "metadata": {
    "collapsed": true
   },
   "outputs": [],
   "source": []
  }
 ],
 "metadata": {
  "kernelspec": {
   "display_name": "IPython (Python 3)",
   "language": "python",
   "name": "python3"
  },
  "language_info": {
   "codemirror_mode": {
    "name": "ipython",
    "version": 3
   },
   "file_extension": ".py",
   "mimetype": "text/x-python",
   "name": "python",
   "nbconvert_exporter": "python",
   "pygments_lexer": "ipython3",
   "version": "3.5.1+"
  }
 },
 "nbformat": 4,
 "nbformat_minor": 0
}

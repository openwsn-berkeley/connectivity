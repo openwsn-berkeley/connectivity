{
 "cells": [
  {
   "cell_type": "markdown",
   "metadata": {},
   "source": [
    "## Python dependencies"
   ]
  },
  {
   "cell_type": "code",
   "execution_count": 133,
   "metadata": {
    "collapsed": false
   },
   "outputs": [],
   "source": [
    "%matplotlib inline\n",
    "\n",
    "import numpy as np\n",
    "import pandas as pd\n",
    "import matplotlib.pyplot as plt"
   ]
  },
  {
   "cell_type": "markdown",
   "metadata": {},
   "source": [
    "## Data loading & cleaning "
   ]
  },
  {
   "cell_type": "code",
   "execution_count": 134,
   "metadata": {
    "collapsed": false
   },
   "outputs": [],
   "source": [
    "df_1 = pd.read_csv(\"raw_data/connectivity1458292421ttyUSB0.csv\",\n",
    "                  names=[\"type\", \"MAC\", \"seq\", \"wraps\", \"timestamp\", \"RSSI\", \"LQI\"],)\n",
    "df_2 = pd.read_csv(\"raw_data/connectivity1459473036ttyUSB0.csv\",\n",
    "                  names=[\"type\", \"MAC\", \"seq\", \"wraps\", \"timestamp\", \"RSSI\", \"LQI\"],)\n",
    "\n",
    "# We apply the same cleaning on all data sets\n",
    "for num, d in enumerate([df_1, df_2]):\n",
    "    d[\"type\"] = d[\"type\"].map({\"0xaa\": \"rPi\", \"0x55\": \"mote\"})\n",
    "    # It's better to have a Not a Number (NaN) rather than 0 to avoid confusion.\n",
    "    d[\"timestamp\"] = d[\"timestamp\"].replace({0: np.nan})\n",
    "    # Timestamp are only delta. No date sync is available.\n",
    "    d['timestamp'] = d[\"timestamp\"] - d[\"timestamp\"].min()\n",
    "    d[\"origin\"] = num\n",
    "\n",
    "df = pd.concat([df_1, df_2])"
   ]
  },
  {
   "cell_type": "markdown",
   "metadata": {
    "collapsed": true
   },
   "source": [
    "## Motes in action\n",
    "\n",
    "We can see all the motes in actions:"
   ]
  },
  {
   "cell_type": "code",
   "execution_count": 135,
   "metadata": {
    "collapsed": false
   },
   "outputs": [
    {
     "data": {
      "text/plain": [
       "array(['0x0:0x12:0x4b:0x0:0x6:0x15:0xa4:0xd1'], dtype=object)"
      ]
     },
     "execution_count": 135,
     "metadata": {},
     "output_type": "execute_result"
    }
   ],
   "source": [
    "df_1[df_1[\"type\"] == \"mote\"].MAC.unique()"
   ]
  },
  {
   "cell_type": "code",
   "execution_count": 136,
   "metadata": {
    "collapsed": false
   },
   "outputs": [
    {
     "data": {
      "text/plain": [
       "array(['0x0:0x12:0x4b:0x0:0x6:0xd:0x84:0x64'], dtype=object)"
      ]
     },
     "execution_count": 136,
     "metadata": {},
     "output_type": "execute_result"
    }
   ],
   "source": [
    "df_2[df_2[\"type\"] == \"mote\"].MAC.unique()"
   ]
  },
  {
   "cell_type": "markdown",
   "metadata": {},
   "source": [
    "## RaspberryPi in action"
   ]
  },
  {
   "cell_type": "code",
   "execution_count": 137,
   "metadata": {
    "collapsed": false
   },
   "outputs": [
    {
     "data": {
      "text/plain": [
       "array(['0x0:0x12:0x4b:0x0:0x6:0xd:0x80:0x1a',\n",
       "       '0x0:0x12:0x4b:0x0:0x6:0xd:0x9f:0x43'], dtype=object)"
      ]
     },
     "execution_count": 137,
     "metadata": {},
     "output_type": "execute_result"
    }
   ],
   "source": [
    "df_1[df_1[\"type\"] == \"rPi\"].MAC.unique()"
   ]
  },
  {
   "cell_type": "code",
   "execution_count": 138,
   "metadata": {
    "collapsed": false
   },
   "outputs": [
    {
     "data": {
      "text/plain": [
       "array(['0x0:0x12:0x4b:0x0:0x6:0xd:0x80:0x1a',\n",
       "       '0x0:0x12:0x4b:0x0:0x6:0xd:0x9f:0x43'], dtype=object)"
      ]
     },
     "execution_count": 138,
     "metadata": {},
     "output_type": "execute_result"
    }
   ],
   "source": [
    "df_2[df_2[\"type\"] == \"rPi\"].MAC.unique()"
   ]
  },
  {
   "cell_type": "markdown",
   "metadata": {},
   "source": [
    "## RSSI summary"
   ]
  },
  {
   "cell_type": "code",
   "execution_count": 139,
   "metadata": {
    "collapsed": false,
    "scrolled": false
   },
   "outputs": [
    {
     "data": {
      "text/plain": [
       "count    343002.000000\n",
       "mean        -34.238876\n",
       "std           3.266245\n",
       "min         -61.000000\n",
       "25%         -37.000000\n",
       "50%         -33.000000\n",
       "75%         -31.000000\n",
       "max         -28.000000\n",
       "Name: RSSI, dtype: float64"
      ]
     },
     "execution_count": 139,
     "metadata": {},
     "output_type": "execute_result"
    }
   ],
   "source": [
    "df.RSSI.describe()"
   ]
  },
  {
   "cell_type": "code",
   "execution_count": 140,
   "metadata": {
    "collapsed": false
   },
   "outputs": [
    {
     "data": {
      "text/plain": [
       "<matplotlib.axes._subplots.AxesSubplot at 0x7f36d68eee48>"
      ]
     },
     "execution_count": 140,
     "metadata": {},
     "output_type": "execute_result"
    },
    {
     "data": {
      "image/png": "[encoded data removed]",
      "text/plain": [
       "<matplotlib.figure.Figure at 0x7f36d68ee668>"
      ]
     },
     "metadata": {},
     "output_type": "display_data"
    }
   ],
   "source": [
    "df.RSSI.hist(bins=20)"
   ]
  },
  {
   "cell_type": "markdown",
   "metadata": {},
   "source": [
    "## LQI summary"
   ]
  },
  {
   "cell_type": "code",
   "execution_count": 141,
   "metadata": {
    "collapsed": false
   },
   "outputs": [
    {
     "data": {
      "text/plain": [
       "count    343002.000000\n",
       "mean        107.926432\n",
       "std           0.330771\n",
       "min          66.000000\n",
       "25%         108.000000\n",
       "50%         108.000000\n",
       "75%         108.000000\n",
       "max         108.000000\n",
       "Name: LQI, dtype: float64"
      ]
     },
     "execution_count": 141,
     "metadata": {},
     "output_type": "execute_result"
    }
   ],
   "source": [
    "df.LQI.describe()"
   ]
  },
  {
   "cell_type": "code",
   "execution_count": 142,
   "metadata": {
    "collapsed": false
   },
   "outputs": [
    {
     "data": {
      "text/plain": [
       "<matplotlib.axes._subplots.AxesSubplot at 0x7f36d55a3dd8>"
      ]
     },
     "execution_count": 142,
     "metadata": {},
     "output_type": "execute_result"
    },
    {
     "data": {
      "image/png": "[encoded data removed]",
      "text/plain": [
       "<matplotlib.figure.Figure at 0x7f36d68eedd8>"
      ]
     },
     "metadata": {},
     "output_type": "display_data"
    }
   ],
   "source": [
    "df.LQI.hist()"
   ]
  },
  {
   "cell_type": "markdown",
   "metadata": {},
   "source": [
    "## How many time a packet with a given (MAC, seq) number is seen?"
   ]
  },
  {
   "cell_type": "code",
   "execution_count": 143,
   "metadata": {
    "collapsed": false
   },
   "outputs": [
    {
     "data": {
      "text/plain": [
       "array([1, 2, 3, 4])"
      ]
     },
     "execution_count": 143,
     "metadata": {},
     "output_type": "execute_result"
    }
   ],
   "source": [
    "df.groupby([\"MAC\", \"seq\"], sort=True).size().unique()"
   ]
  },
  {
   "cell_type": "markdown",
   "metadata": {},
   "source": [
    "Some packets seems to show up 1, 2, 3 or 4 times."
   ]
  },
  {
   "cell_type": "code",
   "execution_count": 174,
   "metadata": {
    "collapsed": true
   },
   "outputs": [],
   "source": [
    "t = df.groupby([\"MAC\", \"seq\"], sort=True).size()"
   ]
  },
  {
   "cell_type": "code",
   "execution_count": 175,
   "metadata": {
    "collapsed": false
   },
   "outputs": [
    {
     "data": {
      "text/plain": [
       "4"
      ]
     },
     "execution_count": 175,
     "metadata": {},
     "output_type": "execute_result"
    }
   ],
   "source": [
    "t[t == 3].count()"
   ]
  },
  {
   "cell_type": "markdown",
   "metadata": {},
   "source": [
    "4 couples (MAC, sqe) shows up 3 times"
   ]
  },
  {
   "cell_type": "code",
   "execution_count": 173,
   "metadata": {
    "collapsed": false
   },
   "outputs": [
    {
     "data": {
      "text/plain": [
       "MAC                                   seq  \n",
       "0x0:0x12:0x4b:0x0:0x6:0x15:0xa4:0xd1  9766     3\n",
       "                                      10280    3\n",
       "0x0:0x12:0x4b:0x0:0x6:0xd:0x80:0x1a   10537    3\n",
       "0x0:0x12:0x4b:0x0:0x6:0xd:0x9f:0x43   11051    3\n",
       "dtype: int64"
      ]
     },
     "execution_count": 173,
     "metadata": {},
     "output_type": "execute_result"
    }
   ],
   "source": [
    "t[t == 3]"
   ]
  },
  {
   "cell_type": "markdown",
   "metadata": {},
   "source": [
    "Let's see how many (mac, seq) shows up 4 time:"
   ]
  },
  {
   "cell_type": "code",
   "execution_count": 170,
   "metadata": {
    "collapsed": false
   },
   "outputs": [
    {
     "data": {
      "text/plain": [
       "443"
      ]
     },
     "execution_count": 170,
     "metadata": {},
     "output_type": "execute_result"
    }
   ],
   "source": [
    "t[t == 4].count()"
   ]
  },
  {
   "cell_type": "markdown",
   "metadata": {},
   "source": [
    "### Example of a (MAC, seq) showing up 4 time"
   ]
  },
  {
   "cell_type": "code",
   "execution_count": 165,
   "metadata": {
    "collapsed": false
   },
   "outputs": [
    {
     "data": {
      "text/html": [
       "<div>\n",
       "<table border=\"1\" class=\"dataframe\">\n",
       "  <thead>\n",
       "    <tr style=\"text-align: right;\">\n",
       "      <th></th>\n",
       "      <th>type</th>\n",
       "      <th>MAC</th>\n",
       "      <th>seq</th>\n",
       "      <th>wraps</th>\n",
       "      <th>timestamp</th>\n",
       "      <th>RSSI</th>\n",
       "      <th>LQI</th>\n",
       "      <th>origin</th>\n",
       "    </tr>\n",
       "  </thead>\n",
       "  <tbody>\n",
       "    <tr>\n",
       "      <th>266</th>\n",
       "      <td>mote</td>\n",
       "      <td>0x0:0x12:0x4b:0x0:0x6:0x15:0xa4:0xd1</td>\n",
       "      <td>10023</td>\n",
       "      <td>0</td>\n",
       "      <td>88.0</td>\n",
       "      <td>-39</td>\n",
       "      <td>108</td>\n",
       "      <td>0</td>\n",
       "    </tr>\n",
       "    <tr>\n",
       "      <th>1031</th>\n",
       "      <td>mote</td>\n",
       "      <td>0x0:0x12:0x4b:0x0:0x6:0x15:0xa4:0xd1</td>\n",
       "      <td>10023</td>\n",
       "      <td>0</td>\n",
       "      <td>343.0</td>\n",
       "      <td>-39</td>\n",
       "      <td>108</td>\n",
       "      <td>0</td>\n",
       "    </tr>\n",
       "    <tr>\n",
       "      <th>30885</th>\n",
       "      <td>mote</td>\n",
       "      <td>0x0:0x12:0x4b:0x0:0x6:0x15:0xa4:0xd1</td>\n",
       "      <td>10023</td>\n",
       "      <td>0</td>\n",
       "      <td>10499.0</td>\n",
       "      <td>-31</td>\n",
       "      <td>108</td>\n",
       "      <td>0</td>\n",
       "    </tr>\n",
       "    <tr>\n",
       "      <th>31650</th>\n",
       "      <td>mote</td>\n",
       "      <td>0x0:0x12:0x4b:0x0:0x6:0x15:0xa4:0xd1</td>\n",
       "      <td>10023</td>\n",
       "      <td>0</td>\n",
       "      <td>10753.0</td>\n",
       "      <td>-31</td>\n",
       "      <td>108</td>\n",
       "      <td>0</td>\n",
       "    </tr>\n",
       "  </tbody>\n",
       "</table>\n",
       "</div>"
      ],
      "text/plain": [
       "       type                                   MAC    seq  wraps  timestamp  \\\n",
       "266    mote  0x0:0x12:0x4b:0x0:0x6:0x15:0xa4:0xd1  10023      0       88.0   \n",
       "1031   mote  0x0:0x12:0x4b:0x0:0x6:0x15:0xa4:0xd1  10023      0      343.0   \n",
       "30885  mote  0x0:0x12:0x4b:0x0:0x6:0x15:0xa4:0xd1  10023      0    10499.0   \n",
       "31650  mote  0x0:0x12:0x4b:0x0:0x6:0x15:0xa4:0xd1  10023      0    10753.0   \n",
       "\n",
       "       RSSI  LQI  origin  \n",
       "266     -39  108       0  \n",
       "1031    -39  108       0  \n",
       "30885   -31  108       0  \n",
       "31650   -31  108       0  "
      ]
     },
     "execution_count": 165,
     "metadata": {},
     "output_type": "execute_result"
    }
   ],
   "source": [
    "df[(df.MAC == \"0x0:0x12:0x4b:0x0:0x6:0x15:0xa4:0xd1\") & (df.seq == 10023)]"
   ]
  },
  {
   "cell_type": "code",
   "execution_count": 179,
   "metadata": {
    "collapsed": false
   },
   "outputs": [
    {
     "data": {
      "text/plain": [
       "count    343002.000000\n",
       "mean      34006.547985\n",
       "std       17222.756275\n",
       "min           0.000000\n",
       "25%       19918.000000\n",
       "50%       34210.000000\n",
       "75%       48502.750000\n",
       "max       65278.000000\n",
       "Name: seq, dtype: float64"
      ]
     },
     "execution_count": 179,
     "metadata": {},
     "output_type": "execute_result"
    }
   ],
   "source": [
    "df.seq.describe()"
   ]
  },
  {
   "cell_type": "code",
   "execution_count": 180,
   "metadata": {
    "collapsed": false
   },
   "outputs": [
    {
     "data": {
      "text/plain": [
       "<matplotlib.axes._subplots.AxesSubplot at 0x7f36d54da898>"
      ]
     },
     "execution_count": 180,
     "metadata": {},
     "output_type": "execute_result"
    },
    {
     "data": {
      "image/png": "[encoded data removed]",
      "text/plain": [
       "<matplotlib.figure.Figure at 0x7f36d6823208>"
      ]
     },
     "metadata": {},
     "output_type": "display_data"
    }
   ],
   "source": [
    "df.wraps.hist()"
   ]
  }
 ],
 "metadata": {
  "kernelspec": {
   "display_name": "IPython (Python 3)",
   "language": "python",
   "name": "python3"
  },
  "language_info": {
   "codemirror_mode": {
    "name": "ipython",
    "version": 3
   },
   "file_extension": ".py",
   "mimetype": "text/x-python",
   "name": "python",
   "nbconvert_exporter": "python",
   "pygments_lexer": "ipython3",
   "version": "3.5.1+"
  }
 },
 "nbformat": 4,
 "nbformat_minor": 0
}
